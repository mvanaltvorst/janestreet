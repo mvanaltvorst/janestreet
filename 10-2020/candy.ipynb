{
  "nbformat": 4,
  "nbformat_minor": 0,
  "metadata": {
    "colab": {
      "name": "js1020.ipynb",
      "provenance": []
    },
    "kernelspec": {
      "name": "python3",
      "display_name": "Python 3"
    }
  },
  "cells": [
    {
      "cell_type": "markdown",
      "metadata": {
        "id": "_FGdjHpIM4PN"
      },
      "source": [
        "https://www.janestreet.com/puzzles/candy-collectors/ october 2020 puzzle\n",
        "\n",
        "We will try to solve an abstraction of the problem: \n",
        "Fill a 5x5 grid with integers in range [0, 5]\n",
        "\n",
        "Constraints:\n",
        "1. Column sums are equal to 5 (implies total sum is 25)\n",
        "2. Row sums are equal to 5 (implies total sum is 25)\n",
        "3. There is a strict maximum in each column\n",
        "\n",
        "Each column represents a type of candy\n",
        "\n",
        "Each row represents a child\n",
        "\n",
        "If we count the number of ways we can fill such a grid, and calculate the total amount of ways we can fill a grid without constraint 2 and 3, we can compute the probability by dividing these two numbers.\n",
        "\n",
        "Approach:\n",
        "Recursively fill each element of the grid (backtracking), stop expanding if we recognize that a constraint has been violated\n",
        "\n",
        "Optimizations:\n",
        "- if column not filled but sum > 5: constraints cannot be satisfied => reject\n",
        "- if row not filled but sum > 5: constraints cannot be satisfied => reject\n",
        "- Each maximum has a value >= 2. We can assign initial maxima to the grid and then assign 3 pieces of candy instead of 5 pieces of candy. This reduces the search space a lot. We compensate by multiplying by 5! at the end: we assigned maxima, but in reality maxima could be in any possible ordering.\n"
      ]
    },
    {
      "cell_type": "code",
      "metadata": {
        "id": "kPKf8_JSMG1v",
        "colab": {
          "base_uri": "https://localhost:8080/",
          "height": 34
        },
        "outputId": "92279275-6584-4601-8eba-0011706c2b2f"
      },
      "source": [
        "# N: total amount of grid fills without constraint #2 and #3\n",
        "# Multinomial: 25! / 5! 5! 5! 5! 5!\n",
        "\n",
        "def fact(n):\n",
        "  acc = 1\n",
        "  for i in range(2, n+1):\n",
        "    acc *= i\n",
        "  return acc\n",
        "\n",
        "N = fact(25)//((fact(5))**5)\n",
        "print(\"N:\", N)"
      ],
      "execution_count": null,
      "outputs": [
        {
          "output_type": "stream",
          "text": [
            "N: 623360743125120\n"
          ],
          "name": "stdout"
        }
      ]
    },
    {
      "cell_type": "code",
      "metadata": {
        "id": "wob9m2QBRALq",
        "colab": {
          "base_uri": "https://localhost:8080/",
          "height": 68
        },
        "outputId": "3f26f3e1-4ed8-4a29-858a-248f5a8d09b0"
      },
      "source": [
        "na = 0\n",
        "\n",
        "grid = []\n",
        "\n",
        "for i in range(5):\n",
        "    grid.append([0, 0, 0, 0, 0]) \n",
        "\n",
        "for i in range(5):\n",
        "    grid[i][i] = 2\n",
        "\n",
        "def printGrid():\n",
        "    for r in range(5):\n",
        "        for c in range(5):\n",
        "            print(f\"{grid[r][c]}\\t\", end=\"\")\n",
        "        print(\"\")\n",
        "    print(\"\")\n",
        "\n",
        "def passesConstraints(r, c):\n",
        "    for rn in range(r):\n",
        "        # filled rows\n",
        "        acc = 0\n",
        "        for cn in range(5):\n",
        "            acc += grid[rn][cn]\n",
        "        # print(f\"acc: {acc}\")\n",
        "        if acc != 5: return False\n",
        "\n",
        "    if r != 5:\n",
        "        # unfilled row\n",
        "        acc = 0\n",
        "        for cn in range(5):\n",
        "            acc += grid[r][cn]\n",
        "        if acc > 5: return False\n",
        "    else: # edge case\n",
        "        c = 5\n",
        "        r = 4\n",
        "\n",
        "    if r == 4:\n",
        "        for cn in range(c):\n",
        "            # filled column\n",
        "            acc = 0\n",
        "            maximum = -1\n",
        "            occurrences = -1\n",
        "            for rn in range(5):\n",
        "                acc += grid[rn][cn]\n",
        "                if grid[rn][cn] > maximum:\n",
        "                    maximum = grid[rn][cn]\n",
        "                    occurrences = 1\n",
        "                elif grid[rn][cn] == maximum:\n",
        "                    occurrences += 1\n",
        "            if acc != 5:\n",
        "                return False\n",
        "            if occurrences > 1:\n",
        "                return False\n",
        "\n",
        "    for cn in range(5): # possibly unfilled column\n",
        "        acc = 0\n",
        "        for rn in range(5):\n",
        "            acc += grid[rn][cn]\n",
        "        if acc > 5: return False\n",
        "\n",
        "    return True\n",
        "\n",
        "def dfs(r, c):\n",
        "    global na\n",
        "    if not passesConstraints(r, c): \n",
        "        return\n",
        "    if r == 5:\n",
        "        # grid is filled and passes constraints: increment na\n",
        "        na += 1\n",
        "        if na % 10000 == 0:\n",
        "            print(f\"na >= {na} * 5!\")\n",
        "\n",
        "        return \n",
        "\n",
        "    for v in range(0, 4): # add 0, 1, 2 or 3 pcs of candy\n",
        "        grid[r][c] += v\n",
        "        dfs(r + ((c+1) // 5), (c+1) % 5)\n",
        "        grid[r][c] -= v\n",
        "    return\n",
        "\n",
        "dfs(0, 0)\n",
        "na *= fact(5)\n",
        "print(f\"na = {na}\")"
      ],
      "execution_count": null,
      "outputs": [
        {
          "output_type": "stream",
          "text": [
            "na >= 10000 * 5!\n",
            "na >= 20000 * 5!\n",
            "na = 2633760\n"
          ],
          "name": "stdout"
        }
      ]
    },
    {
      "cell_type": "code",
      "metadata": {
        "id": "ep_nGiu8RMlp",
        "colab": {
          "base_uri": "https://localhost:8080/",
          "height": 68
        },
        "outputId": "d34fd9da-e13d-457a-f8c0-beca8a04194b"
      },
      "source": [
        "from math import gcd\n",
        "print(f\"N = {N}\")\n",
        "print(f\"n_a = {na}\")\n",
        "print(f\"p = n_a/N = {na//gcd(na, N)}/{N//gcd(na, N)} = {na/N}\")\n"
      ],
      "execution_count": null,
      "outputs": [
        {
          "output_type": "stream",
          "text": [
            "N = 623360743125120\n",
            "n_a = 2633760\n",
            "p = n_a/N = 1829/432889404948 = 4.225097632545904e-09\n"
          ],
          "name": "stdout"
        }
      ]
    }
  ]
}