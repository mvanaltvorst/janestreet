{
 "cells": [
  {
   "cell_type": "code",
   "execution_count": 2,
   "id": "insured-delivery",
   "metadata": {},
   "outputs": [],
   "source": [
    "import numpy as np\n",
    "initial = [1, 16, 8, 9, 5, 12, 4, 13, 6, 11, 3, 14, 7, 10, 2, 15]"
   ]
  },
  {
   "cell_type": "code",
   "execution_count": 3,
   "id": "excited-involvement",
   "metadata": {},
   "outputs": [],
   "source": [
    "def win(a, b):\n",
    "    return b/(a+b)"
   ]
  },
  {
   "cell_type": "code",
   "execution_count": 6,
   "id": "realistic-racing",
   "metadata": {},
   "outputs": [
    {
     "name": "stdout",
     "output_type": "stream",
     "text": [
      "[[1.   1.   1.   1.   1.   1.   1.   1.   1.   1.   1.   1.   1.   1.   1.   1.  ]\n",
      " [0.94 0.06 0.53 0.47 0.71 0.29 0.76 0.24 0.65 0.35 0.82 0.18 0.59 0.41 0.88 0.12]\n",
      " [0.84 0.02 0.08 0.06 0.36 0.09 0.47 0.08 0.26 0.1  0.58 0.06 0.16 0.09 0.71 0.04]\n",
      " [0.7  0.01 0.03 0.02 0.09 0.01 0.13 0.01 0.09 0.02 0.29 0.01 0.06 0.03 0.48 0.01]\n",
      " [0.52 0.   0.01 0.01 0.03 0.   0.06 0.   0.02 0.   0.11 0.   0.01 0.   0.22 0.  ]]\n"
     ]
    },
    {
     "data": {
      "text/plain": [
       "0.2160396878170165"
      ]
     },
     "execution_count": 6,
     "metadata": {},
     "output_type": "execute_result"
    }
   ],
   "source": [
    "def calc(arrangement):\n",
    "    dp = np.zeros(shape=(5, 16))\n",
    "    dp[0] = 1\n",
    "    for layer in range(1, 5):\n",
    "        group_size = 1<<(layer-1) # the size of the group above layer\n",
    "        for i in range(16):\n",
    "            current_individual = arrangement[i]\n",
    "            current_group = i // group_size\n",
    "            if current_group % 2 == 0:\n",
    "                competition_group = current_group + 1\n",
    "            else:\n",
    "                competition_group = current_group - 1\n",
    "            competitor_index_range = range(competition_group * group_size, (competition_group+1)*group_size)\n",
    "            for competitor_index in competitor_index_range:\n",
    "                competitor = arrangement[competitor_index]\n",
    "                dp[layer][i] += win(current_individual, competitor) * dp[layer-1][competitor_index]\n",
    "            dp[layer][i] *= dp[layer-1][i]\n",
    "    print(np.array2string(dp.round(2), max_line_width=np.inf))\n",
    "    return dp[4][arrangement.index(2)]\n",
    "calc(initial)"
   ]
  },
  {
   "cell_type": "code",
   "execution_count": 75,
   "id": "physical-sport",
   "metadata": {},
   "outputs": [
    {
     "name": "stdout",
     "output_type": "stream",
     "text": [
      "0.2160396878170165\t[1, 16, 8, 9, 5, 12, 4, 13, 6, 11, 3, 14, 7, 10, 2, 15]\n",
      "0.2204033628021303\t[8, 16, 1, 9, 5, 12, 4, 13, 6, 11, 3, 14, 7, 10, 2, 15]\n",
      "0.2209216666385926\t[9, 16, 8, 1, 5, 12, 4, 13, 6, 11, 3, 14, 7, 10, 2, 15]\n",
      "0.22374757237230697\t[5, 16, 8, 9, 1, 12, 4, 13, 6, 11, 3, 14, 7, 10, 2, 15]\n",
      "0.2343402654712729\t[12, 16, 8, 9, 5, 1, 4, 13, 6, 11, 3, 14, 7, 10, 2, 15]\n",
      "0.2366648898645163\t[13, 16, 8, 9, 5, 12, 4, 1, 6, 11, 3, 14, 7, 10, 2, 15]\n",
      "0.2396915314494737\t[14, 16, 8, 9, 5, 12, 4, 13, 6, 11, 3, 1, 7, 10, 2, 15]\n",
      "0.2816191915195929\t[1, 3, 8, 9, 5, 12, 4, 13, 6, 11, 16, 14, 7, 10, 2, 15]\n",
      "Best:\n",
      "0.2816191915195929\t[1, 3, 8, 9, 5, 12, 4, 13, 6, 11, 16, 14, 7, 10, 2, 15]\n"
     ]
    }
   ],
   "source": [
    "print(f\"{calc(initial)}\\t{initial}\")\n",
    "best = (calc(initial), initial)\n",
    "for i in range(16):\n",
    "    for j in range(i+1, 16):\n",
    "        new_arrangement = initial.copy()\n",
    "        new_arrangement[i], new_arrangement[j] = new_arrangement[j], new_arrangement[i]\n",
    "        prob = calc(new_arrangement)\n",
    "        if prob > best[0]:\n",
    "            print(f\"{prob}\\t{new_arrangement}\")\n",
    "            best = (prob, new_arrangement)\n",
    "            \n",
    "print(\"Best:\")\n",
    "print(f\"{best[0]}\\t{best[1]}\")   "
   ]
  },
  {
   "cell_type": "markdown",
   "id": "beneficial-figure",
   "metadata": {},
   "source": [
    "# An experiment\n",
    "What if you repeatedly search and apply the optimal swap?"
   ]
  },
  {
   "cell_type": "code",
   "execution_count": 69,
   "id": "average-seattle",
   "metadata": {},
   "outputs": [
    {
     "name": "stdout",
     "output_type": "stream",
     "text": [
      "0.33652684250579035\t[12, 13, 10, 11, 2, 16, 14, 15, 7, 8, 6, 9, 4, 5, 1, 3]\n",
      "0.33652684250579035\t[12, 13, 10, 11, 16, 2, 14, 15, 8, 7, 9, 6, 1, 3, 5, 4]\n",
      "0.33652684250579035\t[12, 13, 10, 11, 16, 2, 14, 15, 5, 4, 3, 1, 9, 6, 8, 7]\n",
      "0.33652684250579035\t[5, 4, 1, 3, 7, 8, 6, 9, 14, 15, 2, 16, 13, 12, 10, 11]\n",
      "0.33652684250579035\t[2, 16, 15, 14, 12, 13, 10, 11, 6, 9, 8, 7, 3, 1, 4, 5]\n",
      "0.33652684250579035\t[1, 3, 5, 4, 8, 7, 9, 6, 12, 13, 10, 11, 14, 15, 2, 16]\n",
      "0.33652684250579035\t[12, 13, 10, 11, 16, 2, 15, 14, 5, 4, 1, 3, 8, 7, 9, 6]\n",
      "0.33652684250579035\t[13, 12, 10, 11, 14, 15, 16, 2, 5, 4, 1, 3, 9, 6, 8, 7]\n",
      "0.33652684250579024\t[7, 8, 9, 6, 5, 4, 1, 3, 11, 10, 12, 13, 15, 14, 2, 16]\n",
      "0.33652684250579035\t[7, 8, 6, 9, 4, 5, 3, 1, 15, 14, 16, 2, 13, 12, 10, 11]\n",
      "0.33652684250579035\t[12, 13, 10, 11, 2, 16, 15, 14, 5, 4, 1, 3, 8, 7, 9, 6]\n",
      "0.33652684250579035\t[4, 5, 1, 3, 8, 7, 9, 6, 14, 15, 16, 2, 12, 13, 10, 11]\n",
      "0.33652684250579024\t[7, 8, 6, 9, 4, 5, 3, 1, 10, 11, 12, 13, 16, 2, 15, 14]\n",
      "0.33652684250579035\t[15, 14, 16, 2, 13, 12, 10, 11, 9, 6, 7, 8, 1, 3, 4, 5]\n",
      "0.33652684250579035\t[12, 13, 10, 11, 15, 14, 2, 16, 8, 7, 9, 6, 5, 4, 3, 1]\n"
     ]
    }
   ],
   "source": [
    "# let's do some experiments\n",
    "# find optimal overall shuffle\n",
    "import random\n",
    "\n",
    "def find_next_best_arrangement(prev):\n",
    "    best = (0, prev)\n",
    "    for i in range(16):\n",
    "        for j in range(i, 16):\n",
    "            new_arrangement = prev.copy()\n",
    "            new_arrangement[i], new_arrangement[j] = new_arrangement[j], new_arrangement[i]\n",
    "            prob = calc(new_arrangement)\n",
    "            if prob > best[0]:\n",
    "                best = (prob, new_arrangement)\n",
    "    return best[1]\n",
    "            \n",
    "\n",
    "for i in range(15):\n",
    "    random.shuffle(initial)\n",
    "    next_arrangement = find_next_best_arrangement(initial)\n",
    "    while next_arrangement != initial:\n",
    "        initial = next_arrangement\n",
    "        next_arrangement = find_next_best_arrangement(initial)\n",
    "    print(f\"{calc(initial)}\\t{initial}\")"
   ]
  },
  {
   "cell_type": "markdown",
   "id": "extended-olive",
   "metadata": {},
   "source": [
    "It seems like you end up at an optimal solution after repeated swaps >99% of the time, but not always. Quite a surprising result."
   ]
  },
  {
   "cell_type": "code",
   "execution_count": null,
   "id": "skilled-peace",
   "metadata": {},
   "outputs": [],
   "source": []
  }
 ],
 "metadata": {
  "kernelspec": {
   "display_name": "Python 3",
   "language": "python",
   "name": "python3"
  },
  "language_info": {
   "codemirror_mode": {
    "name": "ipython",
    "version": 3
   },
   "file_extension": ".py",
   "mimetype": "text/x-python",
   "name": "python",
   "nbconvert_exporter": "python",
   "pygments_lexer": "ipython3",
   "version": "3.9.2"
  }
 },
 "nbformat": 4,
 "nbformat_minor": 5
}
